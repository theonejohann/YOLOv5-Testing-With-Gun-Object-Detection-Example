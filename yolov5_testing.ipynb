{
 "cells": [
  {
   "cell_type": "markdown",
   "metadata": {},
   "source": [
    "# __YOLOv5 Testing With Gun Object Detection Example__\n",
    "### Made by _[theoneonlyp](https://github.com/theoneonlyp)_\n",
    "---\n",
    "---"
   ]
  },
  {
   "cell_type": "markdown",
   "metadata": {},
   "source": [
    "## 1. Install & Import Dependices\n",
    "---"
   ]
  },
  {
   "cell_type": "markdown",
   "metadata": {},
   "source": [
    "### 1.1 Install"
   ]
  },
  {
   "cell_type": "code",
   "execution_count": null,
   "metadata": {},
   "outputs": [],
   "source": [
    "# run with conda\n",
    "conda install pytorch torchvision torchaudio cudatoolkit=11.3 -c pytorch  "
   ]
  },
  {
   "cell_type": "code",
   "execution_count": null,
   "metadata": {},
   "outputs": [],
   "source": [
    "# Install yolov5\n",
    "%git clone https://github.com/ultralytics/yolov5  # clone\n",
    "%cd yolov5 # change directory\n",
    "%pip install -r requirements.txt  # install"
   ]
  },
  {
   "cell_type": "code",
   "execution_count": null,
   "metadata": {},
   "outputs": [],
   "source": [
    "%pip install seaborn"
   ]
  },
  {
   "cell_type": "markdown",
   "metadata": {},
   "source": [
    "### 1.2 Import "
   ]
  },
  {
   "cell_type": "code",
   "execution_count": null,
   "metadata": {},
   "outputs": [],
   "source": [
    "import torch # Machine Learning\n",
    "from matplotlib import pyplot as plt # Graphing & Preview Images\n",
    "import numpy as np # Linear Algebra\n",
    "import cv2 # Computer Vision / Access to Webcam, Video, Pictues\n",
    "import seaborn # Images"
   ]
  },
  {
   "cell_type": "markdown",
   "metadata": {},
   "source": [
    "## 2. Load Model\n",
    "---"
   ]
  },
  {
   "cell_type": "code",
   "execution_count": null,
   "metadata": {},
   "outputs": [],
   "source": [
    "model = torch.hub.load('ultralytics/yolov5', 'yolov5s', pretrained=True) # Download & Load the Model"
   ]
  },
  {
   "cell_type": "code",
   "execution_count": null,
   "metadata": {},
   "outputs": [],
   "source": [
    "model # View the Model Archetiture"
   ]
  },
  {
   "cell_type": "markdown",
   "metadata": {},
   "source": [
    "## 3. Make Detections\n",
    "---"
   ]
  },
  {
   "cell_type": "markdown",
   "metadata": {},
   "source": [
    "### 3.1 Make Detection on Images"
   ]
  },
  {
   "cell_type": "code",
   "execution_count": null,
   "metadata": {},
   "outputs": [],
   "source": [
    "# Define Image\n",
    "img3 = \"test1.jpg\""
   ]
  },
  {
   "cell_type": "code",
   "execution_count": null,
   "metadata": {},
   "outputs": [],
   "source": [
    "results = model(img3) # Make Detections\n",
    "results.print() # Prints out results BUT DOES NOT RENDER (show image)"
   ]
  },
  {
   "cell_type": "code",
   "execution_count": null,
   "metadata": {},
   "outputs": [],
   "source": [
    "%matplotlib inline\n",
    "plt.imshow(np.squeeze(results.render())) # Draw the Boxes, put squeeze to only include the resoultion\n",
    "plt.show() # Show the image in NoteBook"
   ]
  },
  {
   "cell_type": "code",
   "execution_count": null,
   "metadata": {},
   "outputs": [],
   "source": [
    "results.show() # Show the Image in PC's image viewer"
   ]
  },
  {
   "cell_type": "code",
   "execution_count": null,
   "metadata": {},
   "outputs": [],
   "source": [
    "results.render() # Show the Detection Arrays"
   ]
  },
  {
   "cell_type": "markdown",
   "metadata": {},
   "source": [
    "## 4. Real Time Testing\n",
    "---"
   ]
  },
  {
   "cell_type": "markdown",
   "metadata": {},
   "source": [
    "### 4.1 Real Time Webcam Capture"
   ]
  },
  {
   "cell_type": "code",
   "execution_count": null,
   "metadata": {},
   "outputs": [],
   "source": [
    "# NOTE: Need Webcam!\n",
    "cap = cv2.VideoCapture(0) # Change Number in Parameter to change Webcam\n",
    "\n",
    "# Set Resoultions\n",
    "frame_width = int(cap.get(3))\n",
    "frame_height = int(cap.get(4))\n",
    "\n",
    "# Define Size\n",
    "size = (frame_width, frame_height)\n",
    "\n",
    "# Save the Video\n",
    "video_output = cv2.VideoWriter(\"video_output.avi\", cv2.VideoWriter_fourcc(*'MJPG'), 10, size)\n",
    "\n",
    "\n",
    "\n",
    "while cap.isOpened():\n",
    "    ret, frame = cap.read()\n",
    "\n",
    "    # Make Detections\n",
    "    results = model(frame)\n",
    "\n",
    "    # Write Detection onto video_output\n",
    "    video_output.write(np.squeeze(results.render()))\n",
    "\n",
    "    # Show Detections\n",
    "    video = cv2.imshow(\"Test Video\", np.squeeze(results.render())) # Numpy squeeze is for grabbing resoultion only    \n",
    "\n",
    "    # Quit Window\n",
    "    if cv2.waitKey(1) & 0xFF == ord(\"q\"):\n",
    "        break\n",
    "    \n",
    "\n",
    "cap.release()\n",
    "video_output.release()\n",
    "cv2.destroyAllWindows()"
   ]
  },
  {
   "cell_type": "markdown",
   "metadata": {},
   "source": [
    "### 4.1 Real Time Video Capture "
   ]
  },
  {
   "cell_type": "code",
   "execution_count": null,
   "metadata": {},
   "outputs": [],
   "source": [
    "cap = cv2.VideoCapture('traffic1.mp4') # Change Name in Parameter to change Video\n",
    "\n",
    "# Set Resoultions\n",
    "frame_width = int(cap.get(3))\n",
    "frame_height = int(cap.get(4))\n",
    "\n",
    "# Define Size\n",
    "size = (frame_width, frame_height)\n",
    "\n",
    "# Save the Video\n",
    "video_output = cv2.VideoWriter(\"video_output.avi\", cv2.VideoWriter_fourcc(*'MJPG'), 10, size)\n",
    "\n",
    "\n",
    "\n",
    "while cap.isOpened():\n",
    "    ret, frame = cap.read()\n",
    "\n",
    "    # Make Detections\n",
    "    results = model(frame)\n",
    "\n",
    "    # Write Detection onto video_output\n",
    "    video_output.write(np.squeeze(results.render()))\n",
    "\n",
    "    # Show Detections\n",
    "    video = cv2.imshow(\"Test Video\", np.squeeze(results.render())) # Numpy squeeze is for grabbing resoultion only    \n",
    "\n",
    "    # Quit Window\n",
    "    if cv2.waitKey(1) & 0xFF == ord(\"q\"):\n",
    "        break\n",
    "    \n",
    "\n",
    "cap.release()\n",
    "video_output.release()\n",
    "cv2.destroyAllWindows()"
   ]
  },
  {
   "cell_type": "markdown",
   "metadata": {},
   "source": [
    "## 5. Train Custom DataSet\n",
    "---"
   ]
  },
  {
   "cell_type": "code",
   "execution_count": null,
   "metadata": {},
   "outputs": [],
   "source": [
    "# Run in Terminal\n",
    "!cd yolov5 \n",
    "!python train.py --img 640 --batch 16 --epochs 10 --data dataset.yaml --weights yolov5s.pt"
   ]
  },
  {
   "cell_type": "markdown",
   "metadata": {},
   "source": [
    "## 6. Load Model & Testing\n",
    "---"
   ]
  },
  {
   "cell_type": "code",
   "execution_count": null,
   "metadata": {},
   "outputs": [],
   "source": [
    "model = torch.hub.load('ultralytics/yolov5', 'custom', path='yolov5/runs/train/exp5/weights/last.pt') # Download Yolov5 & Load Custom Model"
   ]
  },
  {
   "cell_type": "markdown",
   "metadata": {},
   "source": [
    "### 6.1 Detection in Images"
   ]
  },
  {
   "cell_type": "code",
   "execution_count": null,
   "metadata": {},
   "outputs": [],
   "source": [
    "# Define Image\n",
    "test_img_handgun = \"113_test_handgun.jpeg\""
   ]
  },
  {
   "cell_type": "code",
   "execution_count": null,
   "metadata": {},
   "outputs": [],
   "source": [
    "results_handgun = model(test_img_handgun) # Make Detections\n",
    "results_handgun.print() # Prints out results BUT DOES NOT RENDER (show image)"
   ]
  },
  {
   "cell_type": "code",
   "execution_count": null,
   "metadata": {},
   "outputs": [],
   "source": [
    "%matplotlib inline\n",
    "plt.imshow(np.squeeze(results_handgun.render())) # Draw the Boxes, put squeeze to only include the resoultion\n",
    "plt.show() # Show the image in NoteBook"
   ]
  },
  {
   "cell_type": "code",
   "execution_count": null,
   "metadata": {},
   "outputs": [],
   "source": [
    "results_handgun.show() # Show the Image in PC's image viewer"
   ]
  },
  {
   "cell_type": "markdown",
   "metadata": {},
   "source": [
    "### 6.2 Detection in Video"
   ]
  },
  {
   "cell_type": "code",
   "execution_count": null,
   "metadata": {},
   "outputs": [],
   "source": [
    "cap = cv2.VideoCapture('gun_footage_short.mp4') # Change Name in Parameter to change Video\n",
    "\n",
    "# Set Resoultions\n",
    "frame_width = int(cap.get(3))\n",
    "frame_height = int(cap.get(4))\n",
    "\n",
    "# Define Size\n",
    "size = (frame_width, frame_height)\n",
    "\n",
    "# Save the Video\n",
    "video_output = cv2.VideoWriter(\"video_output.avi\", cv2.VideoWriter_fourcc(*'MJPG'), 10, size)\n",
    "\n",
    "\n",
    "\n",
    "while cap.isOpened():\n",
    "    ret, frame = cap.read()\n",
    "\n",
    "    # Make Detections\n",
    "    results = model(frame)\n",
    "\n",
    "    # Write Detection onto video_output\n",
    "    video_output.write(np.squeeze(results.render()))\n",
    "\n",
    "    # Show Detections\n",
    "    video = cv2.imshow(\"Test Video\", np.squeeze(results.render())) # Numpy squeeze is for grabbing resoultion only    \n",
    "\n",
    "    # Quit Window\n",
    "    if cv2.waitKey(1) & 0xFF == ord(\"q\"):\n",
    "        break\n",
    "    \n",
    "\n",
    "cap.release()\n",
    "video_output.release()\n",
    "cv2.destroyAllWindows()"
   ]
  },
  {
   "cell_type": "markdown",
   "metadata": {},
   "source": [
    "### 6.3 Detection In Real-Time Video"
   ]
  },
  {
   "cell_type": "code",
   "execution_count": null,
   "metadata": {},
   "outputs": [],
   "source": [
    "cap = cv2.VideoCapture(0) # Change Number in Parameter to change Webcam\n",
    "\n",
    "# Set Resoultions\n",
    "frame_width = int(cap.get(3))\n",
    "frame_height = int(cap.get(4))\n",
    "\n",
    "# Define Size\n",
    "size = (frame_width, frame_height)\n",
    "\n",
    "# Save the Video\n",
    "video_output = cv2.VideoWriter(\"video_output.avi\", cv2.VideoWriter_fourcc(*'MJPG'), 10, size)\n",
    "\n",
    "\n",
    "\n",
    "while cap.isOpened():\n",
    "    ret, frame = cap.read()\n",
    "\n",
    "    # Make Detections\n",
    "    results = model(frame)\n",
    "\n",
    "    # Write Detection onto video_output\n",
    "    video_output.write(np.squeeze(results.render()))\n",
    "\n",
    "    # Show Detections\n",
    "    video = cv2.imshow(\"Test Video\", np.squeeze(results.render())) # Numpy squeeze is for grabbing resoultion only    \n",
    "\n",
    "    # Quit Window\n",
    "    if cv2.waitKey(1) & 0xFF == ord(\"q\"):\n",
    "        break\n",
    "    \n",
    "\n",
    "cap.release()\n",
    "video_output.release()\n",
    "cv2.destroyAllWindows()"
   ]
  }
 ],
 "metadata": {
  "interpreter": {
   "hash": "e8d336f64bd539601b67afcfb231415056376933e6aeac5dc77f725652d6229c"
  },
  "kernelspec": {
   "display_name": "Python 3.6.13 ('gpu2')",
   "language": "python",
   "name": "python3"
  },
  "language_info": {
   "codemirror_mode": {
    "name": "ipython",
    "version": 3
   },
   "file_extension": ".py",
   "mimetype": "text/x-python",
   "name": "python",
   "nbconvert_exporter": "python",
   "pygments_lexer": "ipython3",
   "version": "3.9.7"
  },
  "orig_nbformat": 4
 },
 "nbformat": 4,
 "nbformat_minor": 2
}
